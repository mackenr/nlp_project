{
 "cells": [
  {
   "cell_type": "code",
   "execution_count": null,
   "metadata": {},
   "outputs": [],
   "source": []
  },
  {
   "cell_type": "code",
   "execution_count": null,
   "metadata": {},
   "outputs": [],
   "source": []
  },
  {
   "cell_type": "code",
   "execution_count": null,
   "metadata": {},
   "outputs": [],
   "source": []
  },
  {
   "cell_type": "markdown",
   "metadata": {},
   "source": [
    "# TESTING"
   ]
  },
  {
   "cell_type": "code",
   "execution_count": 1,
   "metadata": {},
   "outputs": [],
   "source": [
    "from sklearn.model_selection import train_test_split\n",
    "from sklearn.linear_model import LogisticRegression\n",
    "from sklearn.ensemble import RandomForestClassifier\n",
    "from sklearn.metrics import classification_report, accuracy_score\n",
    "from sklearn.neighbors import KNeighborsClassifier\n"
   ]
  },
  {
   "cell_type": "code",
   "execution_count": 2,
   "metadata": {},
   "outputs": [
    {
     "ename": "NameError",
     "evalue": "name 'TfidfVectorizer' is not defined",
     "output_type": "error",
     "traceback": [
      "\u001b[0;31m---------------------------------------------------------------------------\u001b[0m",
      "\u001b[0;31mNameError\u001b[0m                                 Traceback (most recent call last)",
      "\u001b[1;32m/Users/richardmacken/codeup-data-science/nlp_project/modeling.ipynb Cell 6\u001b[0m in \u001b[0;36m<cell line: 2>\u001b[0;34m()\u001b[0m\n\u001b[1;32m      <a href='vscode-notebook-cell:/Users/richardmacken/codeup-data-science/nlp_project/modeling.ipynb#W5sZmlsZQ%3D%3D?line=0'>1</a>\u001b[0m \u001b[39m# create TF-IDF Values and assign to X\u001b[39;00m\n\u001b[0;32m----> <a href='vscode-notebook-cell:/Users/richardmacken/codeup-data-science/nlp_project/modeling.ipynb#W5sZmlsZQ%3D%3D?line=1'>2</a>\u001b[0m tfidf \u001b[39m=\u001b[39m TfidfVectorizer()\n\u001b[1;32m      <a href='vscode-notebook-cell:/Users/richardmacken/codeup-data-science/nlp_project/modeling.ipynb#W5sZmlsZQ%3D%3D?line=2'>3</a>\u001b[0m X \u001b[39m=\u001b[39m tfidf\u001b[39m.\u001b[39mfit_transform(df\u001b[39m.\u001b[39mlemmatized)\n\u001b[1;32m      <a href='vscode-notebook-cell:/Users/richardmacken/codeup-data-science/nlp_project/modeling.ipynb#W5sZmlsZQ%3D%3D?line=3'>4</a>\u001b[0m \u001b[39m# assign target value to y\u001b[39;00m\n",
      "\u001b[0;31mNameError\u001b[0m: name 'TfidfVectorizer' is not defined"
     ]
    }
   ],
   "source": [
    "# create TF-IDF Values and assign to X\n",
    "tfidf = TfidfVectorizer()\n",
    "X = tfidf.fit_transform(df.lemmatized)\n",
    "# assign target value to y\n",
    "y = df.language\n",
    "\n",
    "# split into train/validate/test\n",
    "X_train, X_test, y_train, y_test = train_test_split(X, y, stratify=y, test_size=.2, random_state=123)\n",
    "X_train, X_validate, y_train, y_validate = train_test_split(X_train, y_train, stratify=y_train, test_size=.2, random_state=123)\n"
   ]
  },
  {
   "cell_type": "code",
   "execution_count": null,
   "metadata": {},
   "outputs": [],
   "source": [
    "# convert to dataframes\n",
    "train = pd.DataFrame(dict(actual=y_train))\n",
    "validate = pd.DataFrame(dict(actual=y_validate))\n",
    "test = pd.DataFrame(dict(actual=y_test))"
   ]
  },
  {
   "cell_type": "markdown",
   "metadata": {},
   "source": [
    "## Logistic Regression Model"
   ]
  },
  {
   "cell_type": "code",
   "execution_count": null,
   "metadata": {},
   "outputs": [],
   "source": [
    "lm = LogisticRegression().fit(X_train, y_train)\n",
    "\n",
    "train['predicted'] = lm.predict(X_train)\n",
    "validate['predicted'] = lm.predict(X_validate)\n"
   ]
  },
  {
   "cell_type": "code",
   "execution_count": null,
   "metadata": {},
   "outputs": [
    {
     "name": "stdout",
     "output_type": "stream",
     "text": [
      "Logistic Regression Model - Train\n",
      "Accuracy: 98.26%\n",
      "              precision    recall  f1-score   support\n",
      "\n",
      "           C       0.97      0.98      0.98        64\n",
      "        Java       0.98      0.98      0.98        57\n",
      "      Python       1.00      0.98      0.99        51\n",
      "\n",
      "    accuracy                           0.98       172\n",
      "   macro avg       0.98      0.98      0.98       172\n",
      "weighted avg       0.98      0.98      0.98       172\n",
      "\n"
     ]
    }
   ],
   "source": [
    "print('Logistic Regression Model - Train')\n",
    "print('Accuracy: {:.2%}'.format(accuracy_score(train.actual, train.predicted)))\n",
    "print(classification_report(train.actual, train.predicted))\n"
   ]
  },
  {
   "cell_type": "code",
   "execution_count": null,
   "metadata": {},
   "outputs": [
    {
     "name": "stdout",
     "output_type": "stream",
     "text": [
      "Logistic Regression Model - Validate\n",
      "Accuracy: 70.45%\n",
      "              precision    recall  f1-score   support\n",
      "\n",
      "           C       0.58      0.88      0.70        16\n",
      "        Java       0.82      0.60      0.69        15\n",
      "      Python       0.89      0.62      0.73        13\n",
      "\n",
      "    accuracy                           0.70        44\n",
      "   macro avg       0.76      0.70      0.71        44\n",
      "weighted avg       0.75      0.70      0.71        44\n",
      "\n"
     ]
    }
   ],
   "source": [
    "print('Logistic Regression Model - Validate')\n",
    "print('Accuracy: {:.2%}'.format(accuracy_score(validate.actual, validate.predicted)))\n",
    "print(classification_report(validate.actual, validate.predicted))\n"
   ]
  },
  {
   "cell_type": "markdown",
   "metadata": {},
   "source": [
    "## Random Forest Classifier"
   ]
  },
  {
   "cell_type": "code",
   "execution_count": null,
   "metadata": {},
   "outputs": [],
   "source": [
    "rf = RandomForestClassifier(random_state=123).fit(X_train, y_train)\n",
    "\n",
    "train['predicted'] = rf.predict(X_train)\n",
    "validate['predicted'] = rf.predict(X_validate)"
   ]
  },
  {
   "cell_type": "code",
   "execution_count": null,
   "metadata": {},
   "outputs": [
    {
     "name": "stdout",
     "output_type": "stream",
     "text": [
      "Random Forest Model - Train\n",
      "Accuracy: 100.00%\n",
      "              precision    recall  f1-score   support\n",
      "\n",
      "           C       1.00      1.00      1.00        64\n",
      "        Java       1.00      1.00      1.00        57\n",
      "      Python       1.00      1.00      1.00        51\n",
      "\n",
      "    accuracy                           1.00       172\n",
      "   macro avg       1.00      1.00      1.00       172\n",
      "weighted avg       1.00      1.00      1.00       172\n",
      "\n"
     ]
    }
   ],
   "source": [
    "print('Random Forest Model - Train')\n",
    "print('Accuracy: {:.2%}'.format(accuracy_score(train.actual, train.predicted)))\n",
    "print(classification_report(train.actual, train.predicted))"
   ]
  },
  {
   "cell_type": "code",
   "execution_count": null,
   "metadata": {},
   "outputs": [
    {
     "name": "stdout",
     "output_type": "stream",
     "text": [
      "Random Forest Model - Validate\n",
      "Accuracy: 72.73%\n",
      "              precision    recall  f1-score   support\n",
      "\n",
      "           C       0.59      0.81      0.68        16\n",
      "        Java       0.77      0.67      0.71        15\n",
      "      Python       1.00      0.69      0.82        13\n",
      "\n",
      "    accuracy                           0.73        44\n",
      "   macro avg       0.79      0.72      0.74        44\n",
      "weighted avg       0.77      0.73      0.73        44\n",
      "\n"
     ]
    }
   ],
   "source": [
    "print('Random Forest Model - Validate')\n",
    "print('Accuracy: {:.2%}'.format(accuracy_score(validate.actual, validate.predicted)))\n",
    "print(classification_report(validate.actual, validate.predicted))\n"
   ]
  },
  {
   "cell_type": "markdown",
   "metadata": {},
   "source": [
    "## K-Nearest Neighbors"
   ]
  },
  {
   "cell_type": "code",
   "execution_count": null,
   "metadata": {},
   "outputs": [],
   "source": [
    "knn = KNeighborsClassifier(n_neighbors=9).fit(X_train, y_train)\n",
    "\n",
    "train['predicted'] = knn.predict(X_train)\n",
    "validate['predicted'] = knn.predict(X_validate)"
   ]
  },
  {
   "cell_type": "code",
   "execution_count": null,
   "metadata": {},
   "outputs": [
    {
     "name": "stdout",
     "output_type": "stream",
     "text": [
      "K Nearest Neighbors Model - Train\n",
      "Accuracy: 75.58%\n",
      "              precision    recall  f1-score   support\n",
      "\n",
      "           C       0.74      0.77      0.75        64\n",
      "        Java       0.79      0.79      0.79        57\n",
      "      Python       0.73      0.71      0.72        51\n",
      "\n",
      "    accuracy                           0.76       172\n",
      "   macro avg       0.76      0.75      0.75       172\n",
      "weighted avg       0.76      0.76      0.76       172\n",
      "\n"
     ]
    }
   ],
   "source": [
    "print('K Nearest Neighbors Model - Train')\n",
    "print('Accuracy: {:.2%}'.format(accuracy_score(train.actual, train.predicted)))\n",
    "print(classification_report(train.actual, train.predicted))"
   ]
  },
  {
   "cell_type": "code",
   "execution_count": null,
   "metadata": {},
   "outputs": [
    {
     "name": "stdout",
     "output_type": "stream",
     "text": [
      "K Nearest Neighbors Model - Validate\n",
      "Accuracy: 75.00%\n",
      "              precision    recall  f1-score   support\n",
      "\n",
      "           C       0.85      0.69      0.76        16\n",
      "        Java       0.83      0.67      0.74        15\n",
      "      Python       0.63      0.92      0.75        13\n",
      "\n",
      "    accuracy                           0.75        44\n",
      "   macro avg       0.77      0.76      0.75        44\n",
      "weighted avg       0.78      0.75      0.75        44\n",
      "\n"
     ]
    }
   ],
   "source": [
    "print('K Nearest Neighbors Model - Validate')\n",
    "print('Accuracy: {:.2%}'.format(accuracy_score(validate.actual, validate.predicted)))\n",
    "print(classification_report(validate.actual, validate.predicted))"
   ]
  },
  {
   "cell_type": "markdown",
   "metadata": {},
   "source": [
    "### Takeaways\n",
    "    - KNN Model with 9 neighbors had the best performance on validation set without overfitting."
   ]
  },
  {
   "cell_type": "markdown",
   "metadata": {},
   "source": [
    "## Testing our best model on the Test Data"
   ]
  },
  {
   "cell_type": "code",
   "execution_count": null,
   "metadata": {},
   "outputs": [
    {
     "name": "stdout",
     "output_type": "stream",
     "text": [
      "K Nearest Neighbors Model - Test\n",
      "Accuracy: 75.93%\n",
      "              precision    recall  f1-score   support\n",
      "\n",
      "           C       0.68      0.75      0.71        20\n",
      "        Java       0.82      0.78      0.80        18\n",
      "      Python       0.80      0.75      0.77        16\n",
      "\n",
      "    accuracy                           0.76        54\n",
      "   macro avg       0.77      0.76      0.76        54\n",
      "weighted avg       0.76      0.76      0.76        54\n",
      "\n"
     ]
    }
   ],
   "source": [
    "test['predicted'] = knn.predict(X_test)\n",
    "print('K Nearest Neighbors Model - Test')\n",
    "print('Accuracy: {:.2%}'.format(accuracy_score(test.actual, test.predicted)))\n",
    "print(classification_report(test.actual, test.predicted))"
   ]
  },
  {
   "cell_type": "markdown",
   "metadata": {},
   "source": [
    "# Modeling takeaways"
   ]
  },
  {
   "cell_type": "markdown",
   "metadata": {},
   "source": [
    "<div class=\"alert alert-block alert-success\"><b><font size=\"+1\">\n",
    "\n",
    "## Testing Takeaways \n",
    "### 75% accurate prediction of programming language on the test dataset\n",
    "\n",
    "- After testing three models the KNN model was less susceptible to overtraining  \n",
    "    \n",
    "- Performance on the test set was very consistent with our train/validation data performance"
   ]
  },
  {
   "cell_type": "code",
   "execution_count": null,
   "metadata": {},
   "outputs": [],
   "source": []
  }
 ],
 "metadata": {
  "kernelspec": {
   "display_name": "Python 3 (ipykernel)",
   "language": "python",
   "name": "python3"
  },
  "language_info": {
   "codemirror_mode": {
    "name": "ipython",
    "version": 3
   },
   "file_extension": ".py",
   "mimetype": "text/x-python",
   "name": "python",
   "nbconvert_exporter": "python",
   "pygments_lexer": "ipython3",
   "version": "3.9.10"
  },
  "vscode": {
   "interpreter": {
    "hash": "38cca0c38332a56087b24af0bc80247f4fced29cb4f7f437d91dc159adec9c4e"
   }
  }
 },
 "nbformat": 4,
 "nbformat_minor": 2
}
